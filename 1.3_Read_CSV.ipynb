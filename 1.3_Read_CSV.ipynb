{
 "cells": [
  {
   "cell_type": "markdown",
   "id": "04dd209d",
   "metadata": {},
   "source": [
    "### Leer CSV e insertarlo en BBDD"
   ]
  },
  {
   "cell_type": "code",
   "execution_count": 2,
   "id": "6e2b5dcf",
   "metadata": {},
   "outputs": [
    {
     "name": "stdout",
     "output_type": "stream",
     "text": [
      "[('bluenote@googlemail.com', 'Artes', 'Sharon', 27), ('parrillaesquisita@vip.com', 'Arquitectura', 'Giulia', 26), ('lollipopbusiness@vip.com', 'Contaduría', 'Rosana', 60), ('solfernandez@googlemail.com', 'Estadística', 'Sol', 30), ('carlitos@googlemail.com', 'Computación', 'Carlos', 60), ('imprentadetata@vip.com', 'Arquitectura', 'Luciano', 21), ('paella@vip.com', 'Medicina', 'Giuliana', 27), ('crimewave@vip.com', 'Derecho', 'Alicia', 20), ('prince@orange.com', 'Ingenieria', 'William', 24), ('elrisortdewelini@vip.com', 'Nutrición', 'Chefsito', 25), ('planb@vip.com', 'Artes', 'Chencho', 30), ('channel@boyz.com', 'Letras', 'Frank', 32), ('vinos@aouju.com', 'Nutrición', 'Eugenia', 23)]\n"
     ]
    }
   ],
   "source": [
    "import sqlite3\n",
    "import csv \n",
    "\n",
    "conexion = sqlite3.connect('ejemplo.db')\n",
    "cursor = conexion.cursor()\n",
    "\n",
    "archivo = open('datos_db.txt')\n",
    "\n",
    "filas = csv.reader(archivo)\n",
    "cursor.executemany(\"INSERT INTO estudiantes VALUES (?, ?,?,?)\", filas)\n",
    "cursor.execute(\"SELECT * from estudiantes\")\n",
    "\n",
    "print(cursor.fetchall())\n",
    "conexion.commit()\n",
    "conexion.close()"
   ]
  }
 ],
 "metadata": {
  "kernelspec": {
   "display_name": "Python 3 (ipykernel)",
   "language": "python",
   "name": "python3"
  },
  "language_info": {
   "codemirror_mode": {
    "name": "ipython",
    "version": 3
   },
   "file_extension": ".py",
   "mimetype": "text/x-python",
   "name": "python",
   "nbconvert_exporter": "python",
   "pygments_lexer": "ipython3",
   "version": "3.11.5"
  }
 },
 "nbformat": 4,
 "nbformat_minor": 5
}
