{
 "cells": [
  {
   "cell_type": "markdown",
   "id": "46cb351d",
   "metadata": {},
   "source": [
    "###  1.1 Importamos SQLITE y creamos base de datos"
   ]
  },
  {
   "cell_type": "code",
   "execution_count": 1,
   "id": "df2e6dae",
   "metadata": {},
   "outputs": [],
   "source": [
    "import sqlite3"
   ]
  },
  {
   "cell_type": "markdown",
   "id": "aeba6a73",
   "metadata": {},
   "source": [
    "Creamos una conexión a una base de datos"
   ]
  },
  {
   "cell_type": "code",
   "execution_count": 2,
   "id": "e26a5674",
   "metadata": {},
   "outputs": [],
   "source": [
    "conexion = sqlite3.connect(\"ejemplo.db\")"
   ]
  },
  {
   "cell_type": "markdown",
   "id": "18015303",
   "metadata": {},
   "source": [
    "Para crear una tabla se crea una variable de tipo cursor"
   ]
  },
  {
   "cell_type": "code",
   "execution_count": 3,
   "id": "4e208e55",
   "metadata": {},
   "outputs": [],
   "source": [
    "conexion = sqlite3.connect(\"ejemplo.db\")\n",
    "\n",
    "#Creamos el cursor\n",
    "cursor = conexion.cursor()\n",
    "conexion.close()"
   ]
  },
  {
   "cell_type": "code",
   "execution_count": null,
   "id": "a602896d",
   "metadata": {},
   "outputs": [],
   "source": []
  }
 ],
 "metadata": {
  "kernelspec": {
   "display_name": "Python 3 (ipykernel)",
   "language": "python",
   "name": "python3"
  },
  "language_info": {
   "codemirror_mode": {
    "name": "ipython",
    "version": 3
   },
   "file_extension": ".py",
   "mimetype": "text/x-python",
   "name": "python",
   "nbconvert_exporter": "python",
   "pygments_lexer": "ipython3",
   "version": "3.11.5"
  }
 },
 "nbformat": 4,
 "nbformat_minor": 5
}
