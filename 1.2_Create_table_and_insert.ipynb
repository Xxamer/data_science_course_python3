{
 "cells": [
  {
   "cell_type": "markdown",
   "id": "5c1ce9ca",
   "metadata": {},
   "source": [
    "### 1.2 Ingresar y leer datos en SQLite"
   ]
  },
  {
   "cell_type": "markdown",
   "id": "3d6428eb",
   "metadata": {},
   "source": [
    "### Definimos la estructura y lanzamos el ```CREATE TABLE```"
   ]
  },
  {
   "cell_type": "code",
   "execution_count": 2,
   "id": "1a99cc03",
   "metadata": {},
   "outputs": [],
   "source": [
    "import sqlite3"
   ]
  },
  {
   "cell_type": "code",
   "execution_count": 2,
   "id": "df542ee6",
   "metadata": {},
   "outputs": [],
   "source": [
    "conexion = sqlite3.connect(\"ejemplo.db\")\n",
    "cursos = conexion.cursor()\n",
    "\n",
    "# Creamos una tabla llamada Estudiantes\n",
    "cursos.execute(\"CREATE TABLE estudiantes (email VARCHAR(100), carrera VARCHAR(100), nombre VARCHAR(100), edad INTEGER)\")\n",
    "conexion.close()"
   ]
  },
  {
   "cell_type": "markdown",
   "id": "936844e9",
   "metadata": {},
   "source": [
    "### Realizamos un ```INSERT INTO```"
   ]
  },
  {
   "cell_type": "code",
   "execution_count": 3,
   "id": "7f1ed34e",
   "metadata": {},
   "outputs": [],
   "source": [
    "conexion = sqlite3.connect(\"ejemplo.db\")\n",
    "cursor = conexion.cursor()\n",
    "cursor.execute(\"INSERT INTO estudiantes VALUES ('bluenote@googlemail.com', 'Artes', 'Sharon', 27)\")\n",
    "## Sin el commit no se guardará\n",
    "conexion.commit()\n",
    "conexion.close()"
   ]
  },
  {
   "cell_type": "markdown",
   "id": "40a82188",
   "metadata": {},
   "source": [
    "### Hacemos un SELECT * FROM para leer el contenido de una tabla "
   ]
  },
  {
   "cell_type": "code",
   "execution_count": 6,
   "id": "df3193a0",
   "metadata": {},
   "outputs": [
    {
     "name": "stdout",
     "output_type": "stream",
     "text": [
      "('bluenote@googlemail.com', 'Artes', 'Sharon', 27)\n"
     ]
    }
   ],
   "source": [
    "conexion = sqlite3.connect('ejemplo.db')\n",
    "cursor = conexion.cursor()\n",
    "cursor.execute('SELECT * FROM estudiantes')\n",
    "usuarios = cursor.fetchone()\n",
    "print(usuarios)\n",
    "conexion.close()"
   ]
  },
  {
   "cell_type": "markdown",
   "id": "2106d82e",
   "metadata": {},
   "source": [
    "### Se puede ingresar y leer varios registros al mismo tiempo."
   ]
  },
  {
   "cell_type": "code",
   "execution_count": 5,
   "id": "0bcdc06d",
   "metadata": {},
   "outputs": [],
   "source": [
    "conexion = sqlite3.connect('ejemplo.db')\n",
    "cursor = conexion.cursor()\n",
    "usuarios = [\n",
    "    ('parrillaesquisita@vip.com', 'Arquitectura', 'Giulia', 26),\n",
    "    ('lollipopbusiness@vip.com', 'Contaduría', 'Rosana', 60),\n",
    "    ('solfernandez@googlemail.com', 'Estadística', 'Sol', 30),\n",
    "    ('carlitos@googlemail.com', 'Computación', 'Carlos', 60),\n",
    "    ('imprentadetata@vip.com', 'Arquitectura', 'Luciano', 21),\n",
    "]\n",
    "\n",
    "### Execute Many para ejecutar el array de arriba como insert\n",
    "\n",
    "cursor.executemany(\"INSERT INTO estudiantes VALUES (?,?,?,?)\", usuarios)\n",
    "conexion.commit()\n",
    "conexion.close()"
   ]
  },
  {
   "cell_type": "markdown",
   "id": "488b04c4",
   "metadata": {},
   "source": [
    "### Aquí leemos todos los usuarios de la tabla"
   ]
  },
  {
   "cell_type": "code",
   "execution_count": 12,
   "id": "a0d44299",
   "metadata": {},
   "outputs": [
    {
     "name": "stdout",
     "output_type": "stream",
     "text": [
      "('bluenote@googlemail.com', 'Artes', 'Sharon', 27)\n",
      "('parrillaesquisita@vip.com', 'Arquitectura', 'Giulia', 26)\n",
      "('lollipopbusiness@vip.com', 'Contaduría', 'Rosana', 60)\n",
      "('solfernandez@googlemail.com', 'Estadística', 'Sol', 30)\n",
      "('carlitos@googlemail.com', 'Computación', 'Carlos', 60)\n",
      "('imprentadetata@vip.com', 'Arquitectura', 'Luciano', 21)\n"
     ]
    }
   ],
   "source": [
    "conexion = sqlite3.connect('ejemplo.db')\n",
    "cursor = conexion.cursor()\n",
    "cursor.execute(\"SELECT * from estudiantes \")\n",
    "usuarios = cursor.fetchall()\n",
    "for u in usuarios: \n",
    "    print(u)\n",
    "conexion.close()"
   ]
  }
 ],
 "metadata": {
  "kernelspec": {
   "display_name": "Python 3 (ipykernel)",
   "language": "python",
   "name": "python3"
  },
  "language_info": {
   "codemirror_mode": {
    "name": "ipython",
    "version": 3
   },
   "file_extension": ".py",
   "mimetype": "text/x-python",
   "name": "python",
   "nbconvert_exporter": "python",
   "pygments_lexer": "ipython3",
   "version": "3.11.5"
  }
 },
 "nbformat": 4,
 "nbformat_minor": 5
}
